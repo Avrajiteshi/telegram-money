{
 "cells": [
  {
   "cell_type": "markdown",
   "source": [
    "# Statistical Arbitrage for Sports Betting"
   ],
   "metadata": {
    "collapsed": false
   },
   "id": "eef70bbde6bf4fd2"
  },
  {
   "cell_type": "markdown",
   "id": "fa0524d5",
   "metadata": {
    "id": "fa0524d5"
   },
   "source": [
    "Using: Live Sports Odds API\n",
    "Documentation Link: https://the-odds-api.com/"
   ]
  },
  {
   "cell_type": "markdown",
   "id": "40bd8cd9",
   "metadata": {
    "id": "40bd8cd9"
   },
   "source": [
    "This program will look for statistical arbitrage opportunities in the upcoming eight games across all sports."
   ]
  },
  {
   "cell_type": "markdown",
   "id": "88d7d4e1",
   "metadata": {
    "id": "88d7d4e1"
   },
   "source": [
    "### Importing Dependencies and Acquiring API Key"
   ]
  },
  {
   "cell_type": "code",
   "source": [
    "!pip install XlsxWriter\n",
    "!pip install openpyxl"
   ],
   "metadata": {
    "colab": {
     "base_uri": "https://localhost:8080/"
    },
    "id": "eJSxv9OndOcl",
    "executionInfo": {
     "status": "ok",
     "timestamp": 1705767391768,
     "user_tz": -120,
     "elapsed": 9899,
     "user": {
      "displayName": "Камен Караиванов",
      "userId": "03445079520674203608"
     }
    },
    "outputId": "d531cff3-0776-44b1-8059-063329a3b867",
    "ExecuteTime": {
     "end_time": "2024-01-21T11:38:01.990375677Z",
     "start_time": "2024-01-21T11:37:59.898851227Z"
    }
   },
   "id": "eJSxv9OndOcl",
   "execution_count": 1,
   "outputs": [
    {
     "name": "stdout",
     "output_type": "stream",
     "text": [
      "Defaulting to user installation because normal site-packages is not writeable\r\n",
      "Requirement already satisfied: XlsxWriter in /home/dinamitrii/.local/lib/python3.10/site-packages (3.1.9)\r\n",
      "Defaulting to user installation because normal site-packages is not writeable\r\n",
      "Requirement already satisfied: openpyxl in /usr/local/lib/python3.10/dist-packages (3.0.10)\r\n",
      "Requirement already satisfied: et-xmlfile in /usr/local/lib/python3.10/dist-packages (from openpyxl) (1.1.0)\r\n"
     ]
    }
   ]
  },
  {
   "cell_type": "code",
   "execution_count": 2,
   "id": "31fa11dc",
   "metadata": {
    "id": "31fa11dc",
    "executionInfo": {
     "status": "ok",
     "timestamp": 1705767393646,
     "user_tz": -120,
     "elapsed": 1881,
     "user": {
      "displayName": "Камен Караиванов",
      "userId": "03445079520674203608"
     }
    },
    "ExecuteTime": {
     "end_time": "2024-01-21T11:38:02.309656890Z",
     "start_time": "2024-01-21T11:38:01.990850240Z"
    }
   },
   "outputs": [],
   "source": [
    "import requests\n",
    "import xlsxwriter\n",
    "import pandas as pd\n",
    "import numpy as np\n",
    "import openpyxl\n",
    "from openpyxl import Workbook, load_workbook\n",
    "from openpyxl.styles import Border, Side, Font, Alignment, PatternFill, numbers\n",
    "\n",
    "API_KEY = '5ec23303eba06019f6fd673bbd6e551c'\n"
   ]
  },
  {
   "cell_type": "markdown",
   "id": "2728ca07",
   "metadata": {
    "id": "2728ca07"
   },
   "source": [
    "### Defining Constants and Making API Call\n",
    "- ``BET_SIZE`` is the monetary amount in USD that you are willing to make for each bet. For example, if you define ``BET_SIZE`` as 100, you are telling the program that you want to bet a total of 100 dollars USD for each arbitrage opportunity that the program finds"
   ]
  },
  {
   "cell_type": "code",
   "execution_count": 3,
   "id": "b07f9912",
   "metadata": {
    "scrolled": false,
    "id": "b07f9912",
    "executionInfo": {
     "status": "ok",
     "timestamp": 1705767394099,
     "user_tz": -120,
     "elapsed": 457,
     "user": {
      "displayName": "Камен Караиванов",
      "userId": "03445079520674203608"
     }
    },
    "ExecuteTime": {
     "end_time": "2024-01-21T11:38:02.840771177Z",
     "start_time": "2024-01-21T11:38:02.312059762Z"
    }
   },
   "outputs": [],
   "source": [
    "SPORT = 'upcoming' # use the sport_key from the /sports endpoint below, or use 'upcoming' to see the next 8 games across all sports\n",
    "\n",
    "REGIONS = 'uk', 'eu' # uk | us | eu | au. Multiple can be specified if comma delimited\n",
    "\n",
    "MARKETS = 'totals' # h2h | spreads | totals. Multiple can be specified if comma delimited\n",
    "\n",
    "ODDS_FORMAT = 'decimal' # decimal | american\n",
    "\n",
    "DATE_FORMAT = 'iso' # iso | unix\n",
    "\n",
    "BET_SIZE = 100\n",
    "\n",
    "odds_response = requests.get(\n",
    "    f'https://api.the-odds-api.com/v4/sports/{SPORT}/odds',\n",
    "    params={\n",
    "        'api_key': '5ec23303eba06019f6fd673bbd6e551c',\n",
    "        'regions': REGIONS,\n",
    "        'markets': MARKETS,\n",
    "        'oddsFormat': ODDS_FORMAT,\n",
    "        'dateFormat': DATE_FORMAT,\n",
    "    }\n",
    ").json()"
   ]
  },
  {
   "cell_type": "code",
   "execution_count": 4,
   "id": "a406cfc7",
   "metadata": {
    "colab": {
     "base_uri": "https://localhost:8080/"
    },
    "id": "a406cfc7",
    "executionInfo": {
     "status": "ok",
     "timestamp": 1705767394099,
     "user_tz": -120,
     "elapsed": 49,
     "user": {
      "displayName": "Камен Караиванов",
      "userId": "03445079520674203608"
     }
    },
    "outputId": "fcb913cc-1b59-4684-98ba-1db8de2a5107",
    "ExecuteTime": {
     "end_time": "2024-01-21T11:38:02.856903559Z",
     "start_time": "2024-01-21T11:38:02.845033949Z"
    }
   },
   "outputs": [
    {
     "name": "stdout",
     "output_type": "stream",
     "text": [
      "[{'id': '378ad6b98b3afe19fc6163303e290c6c', 'sport_key': 'tennis_atp_aus_open_singles', 'sport_title': 'ATP Australian Open', 'commence_time': '2024-01-21T08:10:55Z', 'home_team': 'Alex de Minaur', 'away_team': 'Andrey Rublev', 'bookmakers': [{'key': 'grosvenor', 'title': 'Grosvenor', 'last_update': '2024-01-21T11:38:00Z', 'markets': [{'key': 'totals', 'last_update': '2024-01-21T11:38:00Z', 'outcomes': [{'name': 'Over', 'price': 1.82, 'point': 53.5}, {'name': 'Under', 'price': 1.92, 'point': 53.5}]}]}]}, {'id': '0567ced828cece3b2b852dbc74a535e9', 'sport_key': 'soccer_turkey_super_league', 'sport_title': 'Turkey Super League', 'commence_time': '2024-01-21T10:29:17Z', 'home_team': 'Sivasspor', 'away_team': 'Gazişehir Gaziantep', 'bookmakers': [{'key': 'mrgreen', 'title': 'Mr Green', 'last_update': '2024-01-21T11:37:31Z', 'markets': [{'key': 'totals', 'last_update': '2024-01-21T11:37:31Z', 'outcomes': [{'name': 'Over', 'price': 2.06, 'point': 5.5}, {'name': 'Under', 'price': 1.64, 'point': 5.5}]}]}, {'key': 'unibet_uk', 'title': 'Unibet', 'last_update': '2024-01-21T11:37:32Z', 'markets': [{'key': 'totals', 'last_update': '2024-01-21T11:37:32Z', 'outcomes': [{'name': 'Over', 'price': 2.08, 'point': 5.5}, {'name': 'Under', 'price': 1.66, 'point': 5.5}]}]}, {'key': 'grosvenor', 'title': 'Grosvenor', 'last_update': '2024-01-21T11:37:32Z', 'markets': [{'key': 'totals', 'last_update': '2024-01-21T11:37:32Z', 'outcomes': [{'name': 'Over', 'price': 2.12, 'point': 5.5}, {'name': 'Under', 'price': 1.67, 'point': 5.5}]}]}, {'key': 'casumo', 'title': 'Casumo', 'last_update': '2024-01-21T11:37:31Z', 'markets': [{'key': 'totals', 'last_update': '2024-01-21T11:37:31Z', 'outcomes': [{'name': 'Over', 'price': 2.12, 'point': 5.5}, {'name': 'Under', 'price': 1.67, 'point': 5.5}]}]}, {'key': 'matchbook', 'title': 'Matchbook', 'last_update': '2024-01-21T11:37:31Z', 'markets': [{'key': 'totals', 'last_update': '2024-01-21T11:37:31Z', 'outcomes': [{'name': 'Over', 'price': 2.32, 'point': 5.5}, {'name': 'Under', 'price': 1.65, 'point': 5.5}]}]}]}, {'id': 'b7c66ff64b5894e1da891888822be038', 'sport_key': 'soccer_netherlands_eredivisie', 'sport_title': 'Dutch Eredivisie', 'commence_time': '2024-01-21T11:17:51Z', 'home_team': 'FC Utrecht', 'away_team': 'PSV Eindhoven', 'bookmakers': [{'key': 'betfair_sb_uk', 'title': 'Betfair Sportsbook', 'last_update': '2024-01-21T11:37:19Z', 'markets': [{'key': 'totals', 'last_update': '2024-01-21T11:37:19Z', 'outcomes': [{'name': 'Over', 'price': 1.22, 'point': 2.5}, {'name': 'Under', 'price': 3.8, 'point': 2.5}]}]}, {'key': 'unibet_uk', 'title': 'Unibet', 'last_update': '2024-01-21T11:37:18Z', 'markets': [{'key': 'totals', 'last_update': '2024-01-21T11:37:18Z', 'outcomes': [{'name': 'Over', 'price': 1.77, 'point': 3.5}, {'name': 'Under', 'price': 1.93, 'point': 3.5}]}]}, {'key': 'mrgreen', 'title': 'Mr Green', 'last_update': '2024-01-21T11:37:18Z', 'markets': [{'key': 'totals', 'last_update': '2024-01-21T11:37:18Z', 'outcomes': [{'name': 'Over', 'price': 1.75, 'point': 3.5}, {'name': 'Under', 'price': 1.92, 'point': 3.5}]}]}, {'key': 'casumo', 'title': 'Casumo', 'last_update': '2024-01-21T11:37:18Z', 'markets': [{'key': 'totals', 'last_update': '2024-01-21T11:37:18Z', 'outcomes': [{'name': 'Over', 'price': 1.78, 'point': 3.5}, {'name': 'Under', 'price': 1.96, 'point': 3.5}]}]}, {'key': 'coral', 'title': 'Coral', 'last_update': '2024-01-21T11:37:52Z', 'markets': [{'key': 'totals', 'last_update': '2024-01-21T11:37:52Z', 'outcomes': [{'name': 'Over', 'price': 1.28, 'point': 2.5}, {'name': 'Under', 'price': 3.4, 'point': 2.5}]}]}]}, {'id': '1725e5f5196d8f6211088a5890f4e6b6', 'sport_key': 'soccer_italy_serie_a', 'sport_title': 'Serie A - Italy', 'commence_time': '2024-01-21T11:30:00Z', 'home_team': 'Frosinone', 'away_team': 'Cagliari', 'bookmakers': [{'key': 'betfair_sb_uk', 'title': 'Betfair Sportsbook', 'last_update': '2024-01-21T11:37:34Z', 'markets': [{'key': 'totals', 'last_update': '2024-01-21T11:37:34Z', 'outcomes': [{'name': 'Over', 'price': 2.0, 'point': 2.5}, {'name': 'Under', 'price': 1.73, 'point': 2.5}]}]}, {'key': 'williamhill', 'title': 'William Hill', 'last_update': '2024-01-21T11:33:22Z', 'markets': [{'key': 'totals', 'last_update': '2024-01-21T11:33:22Z', 'outcomes': [{'name': 'Over', 'price': 1.8, 'point': 2.5}, {'name': 'Under', 'price': 1.91, 'point': 2.5}]}]}, {'key': 'coral', 'title': 'Coral', 'last_update': '2024-01-21T11:37:33Z', 'markets': [{'key': 'totals', 'last_update': '2024-01-21T11:37:33Z', 'outcomes': [{'name': 'Over', 'price': 2.05, 'point': 2.5}, {'name': 'Under', 'price': 1.73, 'point': 2.5}]}]}, {'key': 'mrgreen', 'title': 'Mr Green', 'last_update': '2024-01-21T11:37:34Z', 'markets': [{'key': 'totals', 'last_update': '2024-01-21T11:37:33Z', 'outcomes': [{'name': 'Over', 'price': 2.02, 'point': 2.5}, {'name': 'Under', 'price': 1.67, 'point': 2.5}]}]}, {'key': 'casumo', 'title': 'Casumo', 'last_update': '2024-01-21T11:37:34Z', 'markets': [{'key': 'totals', 'last_update': '2024-01-21T11:37:34Z', 'outcomes': [{'name': 'Over', 'price': 2.08, 'point': 2.5}, {'name': 'Under', 'price': 1.7, 'point': 2.5}]}]}, {'key': 'unibet_uk', 'title': 'Unibet', 'last_update': '2024-01-21T11:37:34Z', 'markets': [{'key': 'totals', 'last_update': '2024-01-21T11:37:34Z', 'outcomes': [{'name': 'Over', 'price': 2.05, 'point': 2.5}, {'name': 'Under', 'price': 1.68, 'point': 2.5}]}]}, {'key': 'grosvenor', 'title': 'Grosvenor', 'last_update': '2024-01-21T11:37:34Z', 'markets': [{'key': 'totals', 'last_update': '2024-01-21T11:37:34Z', 'outcomes': [{'name': 'Over', 'price': 2.08, 'point': 2.5}, {'name': 'Under', 'price': 1.7, 'point': 2.5}]}]}, {'key': 'matchbook', 'title': 'Matchbook', 'last_update': '2024-01-21T11:37:22Z', 'markets': [{'key': 'totals', 'last_update': '2024-01-21T11:37:22Z', 'outcomes': [{'name': 'Over', 'price': 2.16, 'point': 2.5}, {'name': 'Under', 'price': 1.84, 'point': 2.5}]}]}]}, {'id': 'c0b714bf5103cd43b554ce40d8d042b6', 'sport_key': 'soccer_efl_champ', 'sport_title': 'Championship', 'commence_time': '2024-01-21T12:00:00Z', 'home_team': 'Leeds United', 'away_team': 'Preston North End', 'bookmakers': [{'key': 'betfair_sb_uk', 'title': 'Betfair Sportsbook', 'last_update': '2024-01-21T11:37:11Z', 'markets': [{'key': 'totals', 'last_update': '2024-01-21T11:37:11Z', 'outcomes': [{'name': 'Over', 'price': 1.57, 'point': 2.5}, {'name': 'Under', 'price': 2.3, 'point': 2.5}]}]}, {'key': 'williamhill', 'title': 'William Hill', 'last_update': '2024-01-21T11:34:12Z', 'markets': [{'key': 'totals', 'last_update': '2024-01-21T11:34:12Z', 'outcomes': [{'name': 'Over', 'price': 1.57, 'point': 2.5}, {'name': 'Under', 'price': 2.3, 'point': 2.5}]}]}, {'key': 'coral', 'title': 'Coral', 'last_update': '2024-01-21T11:37:10Z', 'markets': [{'key': 'totals', 'last_update': '2024-01-21T11:37:10Z', 'outcomes': [{'name': 'Over', 'price': 1.6, 'point': 2.5}, {'name': 'Under', 'price': 2.25, 'point': 2.5}]}]}, {'key': 'grosvenor', 'title': 'Grosvenor', 'last_update': '2024-01-21T11:37:11Z', 'markets': [{'key': 'totals', 'last_update': '2024-01-21T11:37:11Z', 'outcomes': [{'name': 'Over', 'price': 1.64, 'point': 2.5}, {'name': 'Under', 'price': 2.28, 'point': 2.5}]}]}, {'key': 'mrgreen', 'title': 'Mr Green', 'last_update': '2024-01-21T11:37:29Z', 'markets': [{'key': 'totals', 'last_update': '2024-01-21T11:37:29Z', 'outcomes': [{'name': 'Over', 'price': 1.62, 'point': 2.5}, {'name': 'Under', 'price': 2.2, 'point': 2.5}]}]}, {'key': 'casumo', 'title': 'Casumo', 'last_update': '2024-01-21T11:37:10Z', 'markets': [{'key': 'totals', 'last_update': '2024-01-21T11:37:10Z', 'outcomes': [{'name': 'Over', 'price': 1.64, 'point': 2.5}, {'name': 'Under', 'price': 2.28, 'point': 2.5}]}]}, {'key': 'unibet_uk', 'title': 'Unibet', 'last_update': '2024-01-21T11:37:11Z', 'markets': [{'key': 'totals', 'last_update': '2024-01-21T11:37:11Z', 'outcomes': [{'name': 'Over', 'price': 1.64, 'point': 2.5}, {'name': 'Under', 'price': 2.28, 'point': 2.5}]}]}]}, {'id': 'e6b79bda37637fdc4773c2000230dd79', 'sport_key': 'soccer_germany_bundesliga2', 'sport_title': 'Bundesliga 2 - Germany', 'commence_time': '2024-01-21T12:30:00Z', 'home_team': '1. FC Magdeburg', 'away_team': 'Wehen Wiesbaden', 'bookmakers': [{'key': 'betfair_sb_uk', 'title': 'Betfair Sportsbook', 'last_update': '2024-01-21T11:36:53Z', 'markets': [{'key': 'totals', 'last_update': '2024-01-21T11:36:53Z', 'outcomes': [{'name': 'Over', 'price': 1.44, 'point': 2.5}, {'name': 'Under', 'price': 2.4, 'point': 2.5}]}]}, {'key': 'williamhill', 'title': 'William Hill', 'last_update': '2024-01-21T11:30:12Z', 'markets': [{'key': 'totals', 'last_update': '2024-01-21T11:30:12Z', 'outcomes': [{'name': 'Over', 'price': 1.5, 'point': 2.5}, {'name': 'Under', 'price': 2.5, 'point': 2.5}]}]}, {'key': 'mrgreen', 'title': 'Mr Green', 'last_update': '2024-01-21T11:38:02Z', 'markets': [{'key': 'totals', 'last_update': '2024-01-21T11:38:02Z', 'outcomes': [{'name': 'Over', 'price': 2.25, 'point': 3.5}, {'name': 'Under', 'price': 1.57, 'point': 3.5}]}]}, {'key': 'grosvenor', 'title': 'Grosvenor', 'last_update': '2024-01-21T11:36:53Z', 'markets': [{'key': 'totals', 'last_update': '2024-01-21T11:36:53Z', 'outcomes': [{'name': 'Over', 'price': 2.33, 'point': 3.5}, {'name': 'Under', 'price': 1.6, 'point': 3.5}]}]}, {'key': 'casumo', 'title': 'Casumo', 'last_update': '2024-01-21T11:38:02Z', 'markets': [{'key': 'totals', 'last_update': '2024-01-21T11:38:02Z', 'outcomes': [{'name': 'Over', 'price': 2.33, 'point': 3.5}, {'name': 'Under', 'price': 1.6, 'point': 3.5}]}]}, {'key': 'unibet_uk', 'title': 'Unibet', 'last_update': '2024-01-21T11:38:02Z', 'markets': [{'key': 'totals', 'last_update': '2024-01-21T11:38:02Z', 'outcomes': [{'name': 'Over', 'price': 2.33, 'point': 3.5}, {'name': 'Under', 'price': 1.6, 'point': 3.5}]}]}, {'key': 'coral', 'title': 'Coral', 'last_update': '2024-01-21T11:38:02Z', 'markets': [{'key': 'totals', 'last_update': '2024-01-21T11:38:02Z', 'outcomes': [{'name': 'Over', 'price': 1.5, 'point': 2.5}, {'name': 'Under', 'price': 2.37, 'point': 2.5}]}]}, {'key': 'matchbook', 'title': 'Matchbook', 'last_update': '2024-01-21T11:37:36Z', 'markets': [{'key': 'totals', 'last_update': '2024-01-21T11:37:36Z', 'outcomes': [{'name': 'Over', 'price': 2.44, 'point': 3.5}, {'name': 'Under', 'price': 1.66, 'point': 3.5}]}]}]}, {'id': '25bb253a161288d808556fcbff3dd362', 'sport_key': 'soccer_germany_liga3', 'sport_title': '3. Liga - Germany', 'commence_time': '2024-01-21T12:30:00Z', 'home_team': 'SC Preußen Münster', 'away_team': 'Arminia Bielefeld', 'bookmakers': [{'key': 'betfair_sb_uk', 'title': 'Betfair Sportsbook', 'last_update': '2024-01-21T11:36:56Z', 'markets': [{'key': 'totals', 'last_update': '2024-01-21T11:36:56Z', 'outcomes': [{'name': 'Over', 'price': 1.57, 'point': 2.5}, {'name': 'Under', 'price': 2.25, 'point': 2.5}]}]}, {'key': 'grosvenor', 'title': 'Grosvenor', 'last_update': '2024-01-21T11:36:55Z', 'markets': [{'key': 'totals', 'last_update': '2024-01-21T11:36:55Z', 'outcomes': [{'name': 'Over', 'price': 1.57, 'point': 2.5}, {'name': 'Under', 'price': 2.28, 'point': 2.5}]}]}, {'key': 'unibet_uk', 'title': 'Unibet', 'last_update': '2024-01-21T11:36:55Z', 'markets': [{'key': 'totals', 'last_update': '2024-01-21T11:36:55Z', 'outcomes': [{'name': 'Over', 'price': 1.57, 'point': 2.5}, {'name': 'Under', 'price': 2.28, 'point': 2.5}]}]}, {'key': 'mrgreen', 'title': 'Mr Green', 'last_update': '2024-01-21T11:37:08Z', 'markets': [{'key': 'totals', 'last_update': '2024-01-21T11:37:08Z', 'outcomes': [{'name': 'Over', 'price': 1.56, 'point': 2.5}, {'name': 'Under', 'price': 2.2, 'point': 2.5}]}]}, {'key': 'casumo', 'title': 'Casumo', 'last_update': '2024-01-21T11:36:55Z', 'markets': [{'key': 'totals', 'last_update': '2024-01-21T11:36:55Z', 'outcomes': [{'name': 'Over', 'price': 1.57, 'point': 2.5}, {'name': 'Under', 'price': 2.28, 'point': 2.5}]}]}]}, {'id': '037c13a4010b16c3963168d10f8427f2', 'sport_key': 'soccer_belgium_first_div', 'sport_title': 'Belgium First Div', 'commence_time': '2024-01-21T12:30:00Z', 'home_team': 'Royal Antwerp', 'away_team': 'Charleroi', 'bookmakers': [{'key': 'grosvenor', 'title': 'Grosvenor', 'last_update': '2024-01-21T11:37:31Z', 'markets': [{'key': 'totals', 'last_update': '2024-01-21T11:37:31Z', 'outcomes': [{'name': 'Over', 'price': 1.76, 'point': 2.5}, {'name': 'Under', 'price': 2.07, 'point': 2.5}]}]}, {'key': 'betfair_sb_uk', 'title': 'Betfair Sportsbook', 'last_update': '2024-01-21T11:37:31Z', 'markets': [{'key': 'totals', 'last_update': '2024-01-21T11:37:31Z', 'outcomes': [{'name': 'Over', 'price': 1.65, 'point': 2.5}, {'name': 'Under', 'price': 2.1, 'point': 2.5}]}]}, {'key': 'unibet_uk', 'title': 'Unibet', 'last_update': '2024-01-21T11:37:31Z', 'markets': [{'key': 'totals', 'last_update': '2024-01-21T11:37:31Z', 'outcomes': [{'name': 'Over', 'price': 1.74, 'point': 2.5}, {'name': 'Under', 'price': 2.04, 'point': 2.5}]}]}, {'key': 'casumo', 'title': 'Casumo', 'last_update': '2024-01-21T11:37:31Z', 'markets': [{'key': 'totals', 'last_update': '2024-01-21T11:37:31Z', 'outcomes': [{'name': 'Over', 'price': 1.76, 'point': 2.5}, {'name': 'Under', 'price': 2.07, 'point': 2.5}]}]}, {'key': 'mrgreen', 'title': 'Mr Green', 'last_update': '2024-01-21T11:37:31Z', 'markets': [{'key': 'totals', 'last_update': '2024-01-21T11:37:31Z', 'outcomes': [{'name': 'Over', 'price': 1.73, 'point': 2.5}, {'name': 'Under', 'price': 2.04, 'point': 2.5}]}]}, {'key': 'williamhill', 'title': 'William Hill', 'last_update': '2024-01-21T11:33:11Z', 'markets': [{'key': 'totals', 'last_update': '2024-01-21T11:33:11Z', 'outcomes': [{'name': 'Over', 'price': 1.6, 'point': 2.5}, {'name': 'Under', 'price': 2.25, 'point': 2.5}]}]}, {'key': 'coral', 'title': 'Coral', 'last_update': '2024-01-21T11:37:31Z', 'markets': [{'key': 'totals', 'last_update': '2024-01-21T11:37:31Z', 'outcomes': [{'name': 'Over', 'price': 1.61, 'point': 2.5}, {'name': 'Under', 'price': 2.05, 'point': 2.5}]}]}, {'key': 'matchbook', 'title': 'Matchbook', 'last_update': '2024-01-21T11:37:11Z', 'markets': [{'key': 'totals', 'last_update': '2024-01-21T11:37:11Z', 'outcomes': [{'name': 'Over', 'price': 1.74, 'point': 2.5}, {'name': 'Under', 'price': 2.24, 'point': 2.5}]}]}]}, {'id': 'a4c655ccb620e21246e898e3899c3aee', 'sport_key': 'soccer_germany_bundesliga2', 'sport_title': 'Bundesliga 2 - Germany', 'commence_time': '2024-01-21T12:30:00Z', 'home_team': 'Hertha Berlin', 'away_team': 'Fortuna Düsseldorf', 'bookmakers': [{'key': 'betfair_sb_uk', 'title': 'Betfair Sportsbook', 'last_update': '2024-01-21T11:36:53Z', 'markets': [{'key': 'totals', 'last_update': '2024-01-21T11:36:53Z', 'outcomes': [{'name': 'Over', 'price': 1.54, 'point': 2.5}, {'name': 'Under', 'price': 2.2, 'point': 2.5}]}]}, {'key': 'williamhill', 'title': 'William Hill', 'last_update': '2024-01-21T11:30:12Z', 'markets': [{'key': 'totals', 'last_update': '2024-01-21T11:30:12Z', 'outcomes': [{'name': 'Over', 'price': 1.57, 'point': 2.5}, {'name': 'Under', 'price': 2.3, 'point': 2.5}]}]}, {'key': 'grosvenor', 'title': 'Grosvenor', 'last_update': '2024-01-21T11:36:53Z', 'markets': [{'key': 'totals', 'last_update': '2024-01-21T11:36:53Z', 'outcomes': [{'name': 'Over', 'price': 2.4, 'point': 3.5}, {'name': 'Under', 'price': 1.57, 'point': 3.5}]}]}, {'key': 'casumo', 'title': 'Casumo', 'last_update': '2024-01-21T11:38:02Z', 'markets': [{'key': 'totals', 'last_update': '2024-01-21T11:38:02Z', 'outcomes': [{'name': 'Over', 'price': 2.4, 'point': 3.5}, {'name': 'Under', 'price': 1.57, 'point': 3.5}]}]}, {'key': 'mrgreen', 'title': 'Mr Green', 'last_update': '2024-01-21T11:38:02Z', 'markets': [{'key': 'totals', 'last_update': '2024-01-21T11:38:02Z', 'outcomes': [{'name': 'Over', 'price': 2.33, 'point': 3.5}, {'name': 'Under', 'price': 1.56, 'point': 3.5}]}]}, {'key': 'unibet_uk', 'title': 'Unibet', 'last_update': '2024-01-21T11:38:02Z', 'markets': [{'key': 'totals', 'last_update': '2024-01-21T11:38:02Z', 'outcomes': [{'name': 'Over', 'price': 2.4, 'point': 3.5}, {'name': 'Under', 'price': 1.57, 'point': 3.5}]}]}, {'key': 'coral', 'title': 'Coral', 'last_update': '2024-01-21T11:38:02Z', 'markets': [{'key': 'totals', 'last_update': '2024-01-21T11:38:02Z', 'outcomes': [{'name': 'Over', 'price': 1.57, 'point': 2.5}, {'name': 'Under', 'price': 2.2, 'point': 2.5}]}]}, {'key': 'matchbook', 'title': 'Matchbook', 'last_update': '2024-01-21T11:37:36Z', 'markets': [{'key': 'totals', 'last_update': '2024-01-21T11:37:36Z', 'outcomes': [{'name': 'Over', 'price': 1.67, 'point': 2.5}, {'name': 'Under', 'price': 2.44, 'point': 2.5}]}]}]}, {'id': '711e48eb6492e838266801e94ee35c65', 'sport_key': 'soccer_germany_bundesliga2', 'sport_title': 'Bundesliga 2 - Germany', 'commence_time': '2024-01-21T12:30:00Z', 'home_team': 'SC Paderborn', 'away_team': 'Greuther Fürth', 'bookmakers': [{'key': 'betfair_sb_uk', 'title': 'Betfair Sportsbook', 'last_update': '2024-01-21T11:36:53Z', 'markets': [{'key': 'totals', 'last_update': '2024-01-21T11:36:53Z', 'outcomes': [{'name': 'Over', 'price': 1.54, 'point': 2.5}, {'name': 'Under', 'price': 2.2, 'point': 2.5}]}]}, {'key': 'williamhill', 'title': 'William Hill', 'last_update': '2024-01-21T11:30:12Z', 'markets': [{'key': 'totals', 'last_update': '2024-01-21T11:30:12Z', 'outcomes': [{'name': 'Over', 'price': 1.57, 'point': 2.5}, {'name': 'Under', 'price': 2.3, 'point': 2.5}]}]}, {'key': 'mrgreen', 'title': 'Mr Green', 'last_update': '2024-01-21T11:38:02Z', 'markets': [{'key': 'totals', 'last_update': '2024-01-21T11:38:02Z', 'outcomes': [{'name': 'Over', 'price': 1.57, 'point': 2.5}, {'name': 'Under', 'price': 2.25, 'point': 2.5}]}]}, {'key': 'grosvenor', 'title': 'Grosvenor', 'last_update': '2024-01-21T11:36:53Z', 'markets': [{'key': 'totals', 'last_update': '2024-01-21T11:36:53Z', 'outcomes': [{'name': 'Over', 'price': 1.61, 'point': 2.5}, {'name': 'Under', 'price': 2.33, 'point': 2.5}]}]}, {'key': 'casumo', 'title': 'Casumo', 'last_update': '2024-01-21T11:38:02Z', 'markets': [{'key': 'totals', 'last_update': '2024-01-21T11:38:02Z', 'outcomes': [{'name': 'Over', 'price': 1.61, 'point': 2.5}, {'name': 'Under', 'price': 2.33, 'point': 2.5}]}]}, {'key': 'unibet_uk', 'title': 'Unibet', 'last_update': '2024-01-21T11:38:02Z', 'markets': [{'key': 'totals', 'last_update': '2024-01-21T11:38:02Z', 'outcomes': [{'name': 'Over', 'price': 1.61, 'point': 2.5}, {'name': 'Under', 'price': 2.33, 'point': 2.5}]}]}, {'key': 'coral', 'title': 'Coral', 'last_update': '2024-01-21T11:38:02Z', 'markets': [{'key': 'totals', 'last_update': '2024-01-21T11:38:02Z', 'outcomes': [{'name': 'Over', 'price': 1.57, 'point': 2.5}, {'name': 'Under', 'price': 2.2, 'point': 2.5}]}]}, {'key': 'matchbook', 'title': 'Matchbook', 'last_update': '2024-01-21T11:37:36Z', 'markets': [{'key': 'totals', 'last_update': '2024-01-21T11:37:36Z', 'outcomes': [{'name': 'Over', 'price': 1.66, 'point': 2.5}, {'name': 'Under', 'price': 2.46, 'point': 2.5}]}]}]}, {'id': '043e4c7743d563d60c6df7d41b779e04', 'sport_key': 'soccer_turkey_super_league', 'sport_title': 'Turkey Super League', 'commence_time': '2024-01-21T13:00:00Z', 'home_team': 'Torku Konyaspor', 'away_team': 'Antalyaspor', 'bookmakers': [{'key': 'casumo', 'title': 'Casumo', 'last_update': '2024-01-21T11:37:31Z', 'markets': [{'key': 'totals', 'last_update': '2024-01-21T11:37:31Z', 'outcomes': [{'name': 'Over', 'price': 2.38, 'point': 2.5}, {'name': 'Under', 'price': 1.57, 'point': 2.5}]}]}, {'key': 'mrgreen', 'title': 'Mr Green', 'last_update': '2024-01-21T11:37:31Z', 'markets': [{'key': 'totals', 'last_update': '2024-01-21T11:37:31Z', 'outcomes': [{'name': 'Over', 'price': 2.3, 'point': 2.5}, {'name': 'Under', 'price': 1.56, 'point': 2.5}]}]}, {'key': 'unibet_uk', 'title': 'Unibet', 'last_update': '2024-01-21T11:37:32Z', 'markets': [{'key': 'totals', 'last_update': '2024-01-21T11:37:32Z', 'outcomes': [{'name': 'Over', 'price': 2.38, 'point': 2.5}, {'name': 'Under', 'price': 1.57, 'point': 2.5}]}]}, {'key': 'grosvenor', 'title': 'Grosvenor', 'last_update': '2024-01-21T11:37:32Z', 'markets': [{'key': 'totals', 'last_update': '2024-01-21T11:37:32Z', 'outcomes': [{'name': 'Over', 'price': 2.38, 'point': 2.5}, {'name': 'Under', 'price': 1.57, 'point': 2.5}]}]}, {'key': 'coral', 'title': 'Coral', 'last_update': '2024-01-21T11:37:32Z', 'markets': [{'key': 'totals', 'last_update': '2024-01-21T11:37:32Z', 'outcomes': [{'name': 'Over', 'price': 2.25, 'point': 2.5}, {'name': 'Under', 'price': 1.53, 'point': 2.5}]}]}, {'key': 'matchbook', 'title': 'Matchbook', 'last_update': '2024-01-21T11:37:31Z', 'markets': [{'key': 'totals', 'last_update': '2024-01-21T11:37:31Z', 'outcomes': [{'name': 'Over', 'price': 2.5, 'point': 2.5}, {'name': 'Under', 'price': 1.65, 'point': 2.5}]}]}]}, {'id': 'f5c150694939a47afa4a4f26dd87a11e', 'sport_key': 'soccer_spain_la_liga', 'sport_title': 'La Liga - Spain', 'commence_time': '2024-01-21T13:00:00Z', 'home_team': 'CA Osasuna', 'away_team': 'Getafe', 'bookmakers': [{'key': 'betfair_sb_uk', 'title': 'Betfair Sportsbook', 'last_update': '2024-01-21T11:37:33Z', 'markets': [{'key': 'totals', 'last_update': '2024-01-21T11:37:33Z', 'outcomes': [{'name': 'Over', 'price': 2.88, 'point': 2.5}, {'name': 'Under', 'price': 1.36, 'point': 2.5}]}]}, {'key': 'williamhill', 'title': 'William Hill', 'last_update': '2024-01-21T11:34:45Z', 'markets': [{'key': 'totals', 'last_update': '2024-01-21T11:34:45Z', 'outcomes': [{'name': 'Over', 'price': 2.62, 'point': 2.5}, {'name': 'Under', 'price': 1.44, 'point': 2.5}]}]}, {'key': 'coral', 'title': 'Coral', 'last_update': '2024-01-21T11:37:22Z', 'markets': [{'key': 'totals', 'last_update': '2024-01-21T11:37:22Z', 'outcomes': [{'name': 'Over', 'price': 2.65, 'point': 2.5}, {'name': 'Under', 'price': 1.44, 'point': 2.5}]}]}, {'key': 'casumo', 'title': 'Casumo', 'last_update': '2024-01-21T11:37:12Z', 'markets': [{'key': 'totals', 'last_update': '2024-01-21T11:37:12Z', 'outcomes': [{'name': 'Over', 'price': 1.56, 'point': 1.5}, {'name': 'Under', 'price': 2.4, 'point': 1.5}]}]}, {'key': 'unibet_uk', 'title': 'Unibet', 'last_update': '2024-01-21T11:37:02Z', 'markets': [{'key': 'totals', 'last_update': '2024-01-21T11:37:02Z', 'outcomes': [{'name': 'Over', 'price': 1.56, 'point': 1.5}, {'name': 'Under', 'price': 2.4, 'point': 1.5}]}]}, {'key': 'mrgreen', 'title': 'Mr Green', 'last_update': '2024-01-21T11:37:02Z', 'markets': [{'key': 'totals', 'last_update': '2024-01-21T11:37:02Z', 'outcomes': [{'name': 'Over', 'price': 1.53, 'point': 1.5}, {'name': 'Under', 'price': 2.35, 'point': 1.5}]}]}, {'key': 'grosvenor', 'title': 'Grosvenor', 'last_update': '2024-01-21T11:37:22Z', 'markets': [{'key': 'totals', 'last_update': '2024-01-21T11:37:22Z', 'outcomes': [{'name': 'Over', 'price': 1.55, 'point': 1.5}, {'name': 'Under', 'price': 2.38, 'point': 1.5}]}]}]}]\n"
     ]
    }
   ],
   "source": [
    "# odds_response\n",
    "print(odds_response)"
   ]
  },
  {
   "cell_type": "markdown",
   "id": "795b37df",
   "metadata": {
    "id": "795b37df"
   },
   "source": [
    "### Event Class\n",
    "- Each ``Event`` object represents an indivudal sporting event\n",
    "- The ``data`` parameter contains all of the odds data that is received from the API call"
   ]
  },
  {
   "cell_type": "code",
   "execution_count": 5,
   "id": "bccd45dc",
   "metadata": {
    "id": "bccd45dc",
    "executionInfo": {
     "status": "ok",
     "timestamp": 1705767394099,
     "user_tz": -120,
     "elapsed": 2,
     "user": {
      "displayName": "Камен Караиванов",
      "userId": "03445079520674203608"
     }
    },
    "ExecuteTime": {
     "end_time": "2024-01-21T11:38:02.899765717Z",
     "start_time": "2024-01-21T11:38:02.861255840Z"
    }
   },
   "outputs": [],
   "source": [
    "BOOKMAKER_INDEX = 0\n",
    "NAME_INDEX = 1\n",
    "ODDS_INDEX = 2\n",
    "FIRST = 0\n",
    "\n",
    "class Event:\n",
    "    def __init__(self, data):\n",
    "        self.data = data\n",
    "        self.sport_key = data['sport_key']\n",
    "        self.id = data['id']\n",
    "\n",
    "    def find_best_odds(self):\n",
    "        # number of possible outcomes for a sporting event\n",
    "        num_outcomes = len(self.data['bookmakers'][FIRST]['markets'][FIRST]['outcomes'])\n",
    "        self.num_outcomes = num_outcomes\n",
    "\n",
    "        # finding the best odds for each outcome in each event\n",
    "        best_odds = [[None, None, float('-inf')] for _ in range(num_outcomes)]\n",
    "        # [Bookmaker, Name, Price]\n",
    "\n",
    "        bookmakers = event.data['bookmakers']\n",
    "        for index, bookmaker in enumerate(bookmakers):\n",
    "\n",
    "            # determing the odds offered by each bookmaker\n",
    "            for outcome in range(num_outcomes):\n",
    "\n",
    "                # determining if any of the bookmaker odds are better than the current best odds\n",
    "                bookmaker_odds = float(bookmaker['markets'][FIRST]['outcomes'][outcome]['price'])\n",
    "                current_best_odds = best_odds[outcome][ODDS_INDEX]\n",
    "\n",
    "                if bookmaker_odds > current_best_odds:\n",
    "                    best_odds[outcome][BOOKMAKER_INDEX] = bookmaker['title']\n",
    "                    best_odds[outcome][NAME_INDEX] = bookmaker['markets'][FIRST]['outcomes'][outcome]['name']\n",
    "                    best_odds[outcome][ODDS_INDEX] = bookmaker_odds\n",
    "\n",
    "        self.best_odds = best_odds\n",
    "        return best_odds\n",
    "\n",
    "    def arbitrage(self):\n",
    "        total_arbitrage_percentage = 0\n",
    "        for odds in self.best_odds:\n",
    "            total_arbitrage_percentage += (1.0 / odds[ODDS_INDEX])\n",
    "\n",
    "        self.total_arbitrage_percentage = total_arbitrage_percentage\n",
    "        self.expected_earnings = (BET_SIZE / total_arbitrage_percentage) - BET_SIZE\n",
    "\n",
    "        # if the sum of the reciprocals of the odds is less than 1, there is opportunity for arbitrage\n",
    "        if total_arbitrage_percentage < 1:\n",
    "            return True\n",
    "        return False\n",
    "\n",
    "    # converts decimal/European best odds to American best odds\n",
    "    def convert_decimal_to_american(self):\n",
    "        best_odds = self.best_odds\n",
    "        for odds in best_odds:\n",
    "            decimal = odds[ODDS_INDEX]\n",
    "            if decimal >= 2:\n",
    "                american = (decimal - 1) * 100\n",
    "            elif decimal < 2:\n",
    "                american = -100 / (decimal - 1)\n",
    "            odds[ODDS_INDEX] = round(american, 2)\n",
    "        return best_odds\n",
    "\n",
    "    def calculate_arbitrage_bets(self):\n",
    "        bet_amounts = []\n",
    "        for outcome in range(self.num_outcomes):\n",
    "            individual_arbitrage_percentage = 1 / self.best_odds[outcome][ODDS_INDEX]\n",
    "            bet_amount = (BET_SIZE * individual_arbitrage_percentage) / self.total_arbitrage_percentage\n",
    "            bet_amounts.append(round(bet_amount, 2))\n",
    "\n",
    "        self.bet_amounts = bet_amounts\n",
    "        return bet_amounts"
   ]
  },
  {
   "cell_type": "markdown",
   "id": "0737847a",
   "metadata": {
    "id": "0737847a"
   },
   "source": [
    "### Parsing Events and Calculating Arbitrage Bets\n",
    "- `BET_SIZE` is the amount of money in USD that you would like to bet across the outcomes of an event.\n",
    "- This calculation will used unbiased arbitrage, where the profit is the same regardless of the outcome."
   ]
  },
  {
   "cell_type": "code",
   "execution_count": 6,
   "id": "9d71f761",
   "metadata": {
    "id": "9d71f761",
    "executionInfo": {
     "status": "error",
     "timestamp": 1705767440331,
     "user_tz": -120,
     "elapsed": 20,
     "user": {
      "displayName": "Камен Караиванов",
      "userId": "03445079520674203608"
     }
    },
    "colab": {
     "base_uri": "https://localhost:8080/",
     "height": 1000
    },
    "outputId": "235fceae-d73d-42d2-c12e-c60e60ced48f",
    "ExecuteTime": {
     "end_time": "2024-01-21T11:38:02.920443642Z",
     "start_time": "2024-01-21T11:38:02.869337832Z"
    }
   },
   "outputs": [
    {
     "name": "stdout",
     "output_type": "stream",
     "text": [
      "{'id': '378ad6b98b3afe19fc6163303e290c6c', 'sport_key': 'tennis_atp_aus_open_singles', 'sport_title': 'ATP Australian Open', 'commence_time': '2024-01-21T08:10:55Z', 'home_team': 'Alex de Minaur', 'away_team': 'Andrey Rublev', 'bookmakers': [{'key': 'grosvenor', 'title': 'Grosvenor', 'last_update': '2024-01-21T11:38:00Z', 'markets': [{'key': 'totals', 'last_update': '2024-01-21T11:38:00Z', 'outcomes': [{'name': 'Over', 'price': 1.82, 'point': 53.5}, {'name': 'Under', 'price': 1.92, 'point': 53.5}]}]}]}\n",
      "\n",
      "{'id': '0567ced828cece3b2b852dbc74a535e9', 'sport_key': 'soccer_turkey_super_league', 'sport_title': 'Turkey Super League', 'commence_time': '2024-01-21T10:29:17Z', 'home_team': 'Sivasspor', 'away_team': 'Gazişehir Gaziantep', 'bookmakers': [{'key': 'mrgreen', 'title': 'Mr Green', 'last_update': '2024-01-21T11:37:31Z', 'markets': [{'key': 'totals', 'last_update': '2024-01-21T11:37:31Z', 'outcomes': [{'name': 'Over', 'price': 2.06, 'point': 5.5}, {'name': 'Under', 'price': 1.64, 'point': 5.5}]}]}, {'key': 'unibet_uk', 'title': 'Unibet', 'last_update': '2024-01-21T11:37:32Z', 'markets': [{'key': 'totals', 'last_update': '2024-01-21T11:37:32Z', 'outcomes': [{'name': 'Over', 'price': 2.08, 'point': 5.5}, {'name': 'Under', 'price': 1.66, 'point': 5.5}]}]}, {'key': 'grosvenor', 'title': 'Grosvenor', 'last_update': '2024-01-21T11:37:32Z', 'markets': [{'key': 'totals', 'last_update': '2024-01-21T11:37:32Z', 'outcomes': [{'name': 'Over', 'price': 2.12, 'point': 5.5}, {'name': 'Under', 'price': 1.67, 'point': 5.5}]}]}, {'key': 'casumo', 'title': 'Casumo', 'last_update': '2024-01-21T11:37:31Z', 'markets': [{'key': 'totals', 'last_update': '2024-01-21T11:37:31Z', 'outcomes': [{'name': 'Over', 'price': 2.12, 'point': 5.5}, {'name': 'Under', 'price': 1.67, 'point': 5.5}]}]}, {'key': 'matchbook', 'title': 'Matchbook', 'last_update': '2024-01-21T11:37:31Z', 'markets': [{'key': 'totals', 'last_update': '2024-01-21T11:37:31Z', 'outcomes': [{'name': 'Over', 'price': 2.32, 'point': 5.5}, {'name': 'Under', 'price': 1.65, 'point': 5.5}]}]}]}\n",
      "\n",
      "{'id': 'b7c66ff64b5894e1da891888822be038', 'sport_key': 'soccer_netherlands_eredivisie', 'sport_title': 'Dutch Eredivisie', 'commence_time': '2024-01-21T11:17:51Z', 'home_team': 'FC Utrecht', 'away_team': 'PSV Eindhoven', 'bookmakers': [{'key': 'betfair_sb_uk', 'title': 'Betfair Sportsbook', 'last_update': '2024-01-21T11:37:19Z', 'markets': [{'key': 'totals', 'last_update': '2024-01-21T11:37:19Z', 'outcomes': [{'name': 'Over', 'price': 1.22, 'point': 2.5}, {'name': 'Under', 'price': 3.8, 'point': 2.5}]}]}, {'key': 'unibet_uk', 'title': 'Unibet', 'last_update': '2024-01-21T11:37:18Z', 'markets': [{'key': 'totals', 'last_update': '2024-01-21T11:37:18Z', 'outcomes': [{'name': 'Over', 'price': 1.77, 'point': 3.5}, {'name': 'Under', 'price': 1.93, 'point': 3.5}]}]}, {'key': 'mrgreen', 'title': 'Mr Green', 'last_update': '2024-01-21T11:37:18Z', 'markets': [{'key': 'totals', 'last_update': '2024-01-21T11:37:18Z', 'outcomes': [{'name': 'Over', 'price': 1.75, 'point': 3.5}, {'name': 'Under', 'price': 1.92, 'point': 3.5}]}]}, {'key': 'casumo', 'title': 'Casumo', 'last_update': '2024-01-21T11:37:18Z', 'markets': [{'key': 'totals', 'last_update': '2024-01-21T11:37:18Z', 'outcomes': [{'name': 'Over', 'price': 1.78, 'point': 3.5}, {'name': 'Under', 'price': 1.96, 'point': 3.5}]}]}, {'key': 'coral', 'title': 'Coral', 'last_update': '2024-01-21T11:37:52Z', 'markets': [{'key': 'totals', 'last_update': '2024-01-21T11:37:52Z', 'outcomes': [{'name': 'Over', 'price': 1.28, 'point': 2.5}, {'name': 'Under', 'price': 3.4, 'point': 2.5}]}]}]}\n",
      "\n",
      "{'id': '1725e5f5196d8f6211088a5890f4e6b6', 'sport_key': 'soccer_italy_serie_a', 'sport_title': 'Serie A - Italy', 'commence_time': '2024-01-21T11:30:00Z', 'home_team': 'Frosinone', 'away_team': 'Cagliari', 'bookmakers': [{'key': 'betfair_sb_uk', 'title': 'Betfair Sportsbook', 'last_update': '2024-01-21T11:37:34Z', 'markets': [{'key': 'totals', 'last_update': '2024-01-21T11:37:34Z', 'outcomes': [{'name': 'Over', 'price': 2.0, 'point': 2.5}, {'name': 'Under', 'price': 1.73, 'point': 2.5}]}]}, {'key': 'williamhill', 'title': 'William Hill', 'last_update': '2024-01-21T11:33:22Z', 'markets': [{'key': 'totals', 'last_update': '2024-01-21T11:33:22Z', 'outcomes': [{'name': 'Over', 'price': 1.8, 'point': 2.5}, {'name': 'Under', 'price': 1.91, 'point': 2.5}]}]}, {'key': 'coral', 'title': 'Coral', 'last_update': '2024-01-21T11:37:33Z', 'markets': [{'key': 'totals', 'last_update': '2024-01-21T11:37:33Z', 'outcomes': [{'name': 'Over', 'price': 2.05, 'point': 2.5}, {'name': 'Under', 'price': 1.73, 'point': 2.5}]}]}, {'key': 'mrgreen', 'title': 'Mr Green', 'last_update': '2024-01-21T11:37:34Z', 'markets': [{'key': 'totals', 'last_update': '2024-01-21T11:37:33Z', 'outcomes': [{'name': 'Over', 'price': 2.02, 'point': 2.5}, {'name': 'Under', 'price': 1.67, 'point': 2.5}]}]}, {'key': 'casumo', 'title': 'Casumo', 'last_update': '2024-01-21T11:37:34Z', 'markets': [{'key': 'totals', 'last_update': '2024-01-21T11:37:34Z', 'outcomes': [{'name': 'Over', 'price': 2.08, 'point': 2.5}, {'name': 'Under', 'price': 1.7, 'point': 2.5}]}]}, {'key': 'unibet_uk', 'title': 'Unibet', 'last_update': '2024-01-21T11:37:34Z', 'markets': [{'key': 'totals', 'last_update': '2024-01-21T11:37:34Z', 'outcomes': [{'name': 'Over', 'price': 2.05, 'point': 2.5}, {'name': 'Under', 'price': 1.68, 'point': 2.5}]}]}, {'key': 'grosvenor', 'title': 'Grosvenor', 'last_update': '2024-01-21T11:37:34Z', 'markets': [{'key': 'totals', 'last_update': '2024-01-21T11:37:34Z', 'outcomes': [{'name': 'Over', 'price': 2.08, 'point': 2.5}, {'name': 'Under', 'price': 1.7, 'point': 2.5}]}]}, {'key': 'matchbook', 'title': 'Matchbook', 'last_update': '2024-01-21T11:37:22Z', 'markets': [{'key': 'totals', 'last_update': '2024-01-21T11:37:22Z', 'outcomes': [{'name': 'Over', 'price': 2.16, 'point': 2.5}, {'name': 'Under', 'price': 1.84, 'point': 2.5}]}]}]}\n",
      "\n",
      "{'id': 'c0b714bf5103cd43b554ce40d8d042b6', 'sport_key': 'soccer_efl_champ', 'sport_title': 'Championship', 'commence_time': '2024-01-21T12:00:00Z', 'home_team': 'Leeds United', 'away_team': 'Preston North End', 'bookmakers': [{'key': 'betfair_sb_uk', 'title': 'Betfair Sportsbook', 'last_update': '2024-01-21T11:37:11Z', 'markets': [{'key': 'totals', 'last_update': '2024-01-21T11:37:11Z', 'outcomes': [{'name': 'Over', 'price': 1.57, 'point': 2.5}, {'name': 'Under', 'price': 2.3, 'point': 2.5}]}]}, {'key': 'williamhill', 'title': 'William Hill', 'last_update': '2024-01-21T11:34:12Z', 'markets': [{'key': 'totals', 'last_update': '2024-01-21T11:34:12Z', 'outcomes': [{'name': 'Over', 'price': 1.57, 'point': 2.5}, {'name': 'Under', 'price': 2.3, 'point': 2.5}]}]}, {'key': 'coral', 'title': 'Coral', 'last_update': '2024-01-21T11:37:10Z', 'markets': [{'key': 'totals', 'last_update': '2024-01-21T11:37:10Z', 'outcomes': [{'name': 'Over', 'price': 1.6, 'point': 2.5}, {'name': 'Under', 'price': 2.25, 'point': 2.5}]}]}, {'key': 'grosvenor', 'title': 'Grosvenor', 'last_update': '2024-01-21T11:37:11Z', 'markets': [{'key': 'totals', 'last_update': '2024-01-21T11:37:11Z', 'outcomes': [{'name': 'Over', 'price': 1.64, 'point': 2.5}, {'name': 'Under', 'price': 2.28, 'point': 2.5}]}]}, {'key': 'mrgreen', 'title': 'Mr Green', 'last_update': '2024-01-21T11:37:29Z', 'markets': [{'key': 'totals', 'last_update': '2024-01-21T11:37:29Z', 'outcomes': [{'name': 'Over', 'price': 1.62, 'point': 2.5}, {'name': 'Under', 'price': 2.2, 'point': 2.5}]}]}, {'key': 'casumo', 'title': 'Casumo', 'last_update': '2024-01-21T11:37:10Z', 'markets': [{'key': 'totals', 'last_update': '2024-01-21T11:37:10Z', 'outcomes': [{'name': 'Over', 'price': 1.64, 'point': 2.5}, {'name': 'Under', 'price': 2.28, 'point': 2.5}]}]}, {'key': 'unibet_uk', 'title': 'Unibet', 'last_update': '2024-01-21T11:37:11Z', 'markets': [{'key': 'totals', 'last_update': '2024-01-21T11:37:11Z', 'outcomes': [{'name': 'Over', 'price': 1.64, 'point': 2.5}, {'name': 'Under', 'price': 2.28, 'point': 2.5}]}]}]}\n",
      "\n",
      "{'id': 'e6b79bda37637fdc4773c2000230dd79', 'sport_key': 'soccer_germany_bundesliga2', 'sport_title': 'Bundesliga 2 - Germany', 'commence_time': '2024-01-21T12:30:00Z', 'home_team': '1. FC Magdeburg', 'away_team': 'Wehen Wiesbaden', 'bookmakers': [{'key': 'betfair_sb_uk', 'title': 'Betfair Sportsbook', 'last_update': '2024-01-21T11:36:53Z', 'markets': [{'key': 'totals', 'last_update': '2024-01-21T11:36:53Z', 'outcomes': [{'name': 'Over', 'price': 1.44, 'point': 2.5}, {'name': 'Under', 'price': 2.4, 'point': 2.5}]}]}, {'key': 'williamhill', 'title': 'William Hill', 'last_update': '2024-01-21T11:30:12Z', 'markets': [{'key': 'totals', 'last_update': '2024-01-21T11:30:12Z', 'outcomes': [{'name': 'Over', 'price': 1.5, 'point': 2.5}, {'name': 'Under', 'price': 2.5, 'point': 2.5}]}]}, {'key': 'mrgreen', 'title': 'Mr Green', 'last_update': '2024-01-21T11:38:02Z', 'markets': [{'key': 'totals', 'last_update': '2024-01-21T11:38:02Z', 'outcomes': [{'name': 'Over', 'price': 2.25, 'point': 3.5}, {'name': 'Under', 'price': 1.57, 'point': 3.5}]}]}, {'key': 'grosvenor', 'title': 'Grosvenor', 'last_update': '2024-01-21T11:36:53Z', 'markets': [{'key': 'totals', 'last_update': '2024-01-21T11:36:53Z', 'outcomes': [{'name': 'Over', 'price': 2.33, 'point': 3.5}, {'name': 'Under', 'price': 1.6, 'point': 3.5}]}]}, {'key': 'casumo', 'title': 'Casumo', 'last_update': '2024-01-21T11:38:02Z', 'markets': [{'key': 'totals', 'last_update': '2024-01-21T11:38:02Z', 'outcomes': [{'name': 'Over', 'price': 2.33, 'point': 3.5}, {'name': 'Under', 'price': 1.6, 'point': 3.5}]}]}, {'key': 'unibet_uk', 'title': 'Unibet', 'last_update': '2024-01-21T11:38:02Z', 'markets': [{'key': 'totals', 'last_update': '2024-01-21T11:38:02Z', 'outcomes': [{'name': 'Over', 'price': 2.33, 'point': 3.5}, {'name': 'Under', 'price': 1.6, 'point': 3.5}]}]}, {'key': 'coral', 'title': 'Coral', 'last_update': '2024-01-21T11:38:02Z', 'markets': [{'key': 'totals', 'last_update': '2024-01-21T11:38:02Z', 'outcomes': [{'name': 'Over', 'price': 1.5, 'point': 2.5}, {'name': 'Under', 'price': 2.37, 'point': 2.5}]}]}, {'key': 'matchbook', 'title': 'Matchbook', 'last_update': '2024-01-21T11:37:36Z', 'markets': [{'key': 'totals', 'last_update': '2024-01-21T11:37:36Z', 'outcomes': [{'name': 'Over', 'price': 2.44, 'point': 3.5}, {'name': 'Under', 'price': 1.66, 'point': 3.5}]}]}]}\n",
      "\n",
      "{'id': '25bb253a161288d808556fcbff3dd362', 'sport_key': 'soccer_germany_liga3', 'sport_title': '3. Liga - Germany', 'commence_time': '2024-01-21T12:30:00Z', 'home_team': 'SC Preußen Münster', 'away_team': 'Arminia Bielefeld', 'bookmakers': [{'key': 'betfair_sb_uk', 'title': 'Betfair Sportsbook', 'last_update': '2024-01-21T11:36:56Z', 'markets': [{'key': 'totals', 'last_update': '2024-01-21T11:36:56Z', 'outcomes': [{'name': 'Over', 'price': 1.57, 'point': 2.5}, {'name': 'Under', 'price': 2.25, 'point': 2.5}]}]}, {'key': 'grosvenor', 'title': 'Grosvenor', 'last_update': '2024-01-21T11:36:55Z', 'markets': [{'key': 'totals', 'last_update': '2024-01-21T11:36:55Z', 'outcomes': [{'name': 'Over', 'price': 1.57, 'point': 2.5}, {'name': 'Under', 'price': 2.28, 'point': 2.5}]}]}, {'key': 'unibet_uk', 'title': 'Unibet', 'last_update': '2024-01-21T11:36:55Z', 'markets': [{'key': 'totals', 'last_update': '2024-01-21T11:36:55Z', 'outcomes': [{'name': 'Over', 'price': 1.57, 'point': 2.5}, {'name': 'Under', 'price': 2.28, 'point': 2.5}]}]}, {'key': 'mrgreen', 'title': 'Mr Green', 'last_update': '2024-01-21T11:37:08Z', 'markets': [{'key': 'totals', 'last_update': '2024-01-21T11:37:08Z', 'outcomes': [{'name': 'Over', 'price': 1.56, 'point': 2.5}, {'name': 'Under', 'price': 2.2, 'point': 2.5}]}]}, {'key': 'casumo', 'title': 'Casumo', 'last_update': '2024-01-21T11:36:55Z', 'markets': [{'key': 'totals', 'last_update': '2024-01-21T11:36:55Z', 'outcomes': [{'name': 'Over', 'price': 1.57, 'point': 2.5}, {'name': 'Under', 'price': 2.28, 'point': 2.5}]}]}]}\n",
      "\n",
      "{'id': '037c13a4010b16c3963168d10f8427f2', 'sport_key': 'soccer_belgium_first_div', 'sport_title': 'Belgium First Div', 'commence_time': '2024-01-21T12:30:00Z', 'home_team': 'Royal Antwerp', 'away_team': 'Charleroi', 'bookmakers': [{'key': 'grosvenor', 'title': 'Grosvenor', 'last_update': '2024-01-21T11:37:31Z', 'markets': [{'key': 'totals', 'last_update': '2024-01-21T11:37:31Z', 'outcomes': [{'name': 'Over', 'price': 1.76, 'point': 2.5}, {'name': 'Under', 'price': 2.07, 'point': 2.5}]}]}, {'key': 'betfair_sb_uk', 'title': 'Betfair Sportsbook', 'last_update': '2024-01-21T11:37:31Z', 'markets': [{'key': 'totals', 'last_update': '2024-01-21T11:37:31Z', 'outcomes': [{'name': 'Over', 'price': 1.65, 'point': 2.5}, {'name': 'Under', 'price': 2.1, 'point': 2.5}]}]}, {'key': 'unibet_uk', 'title': 'Unibet', 'last_update': '2024-01-21T11:37:31Z', 'markets': [{'key': 'totals', 'last_update': '2024-01-21T11:37:31Z', 'outcomes': [{'name': 'Over', 'price': 1.74, 'point': 2.5}, {'name': 'Under', 'price': 2.04, 'point': 2.5}]}]}, {'key': 'casumo', 'title': 'Casumo', 'last_update': '2024-01-21T11:37:31Z', 'markets': [{'key': 'totals', 'last_update': '2024-01-21T11:37:31Z', 'outcomes': [{'name': 'Over', 'price': 1.76, 'point': 2.5}, {'name': 'Under', 'price': 2.07, 'point': 2.5}]}]}, {'key': 'mrgreen', 'title': 'Mr Green', 'last_update': '2024-01-21T11:37:31Z', 'markets': [{'key': 'totals', 'last_update': '2024-01-21T11:37:31Z', 'outcomes': [{'name': 'Over', 'price': 1.73, 'point': 2.5}, {'name': 'Under', 'price': 2.04, 'point': 2.5}]}]}, {'key': 'williamhill', 'title': 'William Hill', 'last_update': '2024-01-21T11:33:11Z', 'markets': [{'key': 'totals', 'last_update': '2024-01-21T11:33:11Z', 'outcomes': [{'name': 'Over', 'price': 1.6, 'point': 2.5}, {'name': 'Under', 'price': 2.25, 'point': 2.5}]}]}, {'key': 'coral', 'title': 'Coral', 'last_update': '2024-01-21T11:37:31Z', 'markets': [{'key': 'totals', 'last_update': '2024-01-21T11:37:31Z', 'outcomes': [{'name': 'Over', 'price': 1.61, 'point': 2.5}, {'name': 'Under', 'price': 2.05, 'point': 2.5}]}]}, {'key': 'matchbook', 'title': 'Matchbook', 'last_update': '2024-01-21T11:37:11Z', 'markets': [{'key': 'totals', 'last_update': '2024-01-21T11:37:11Z', 'outcomes': [{'name': 'Over', 'price': 1.74, 'point': 2.5}, {'name': 'Under', 'price': 2.24, 'point': 2.5}]}]}]}\n",
      "\n",
      "{'id': 'a4c655ccb620e21246e898e3899c3aee', 'sport_key': 'soccer_germany_bundesliga2', 'sport_title': 'Bundesliga 2 - Germany', 'commence_time': '2024-01-21T12:30:00Z', 'home_team': 'Hertha Berlin', 'away_team': 'Fortuna Düsseldorf', 'bookmakers': [{'key': 'betfair_sb_uk', 'title': 'Betfair Sportsbook', 'last_update': '2024-01-21T11:36:53Z', 'markets': [{'key': 'totals', 'last_update': '2024-01-21T11:36:53Z', 'outcomes': [{'name': 'Over', 'price': 1.54, 'point': 2.5}, {'name': 'Under', 'price': 2.2, 'point': 2.5}]}]}, {'key': 'williamhill', 'title': 'William Hill', 'last_update': '2024-01-21T11:30:12Z', 'markets': [{'key': 'totals', 'last_update': '2024-01-21T11:30:12Z', 'outcomes': [{'name': 'Over', 'price': 1.57, 'point': 2.5}, {'name': 'Under', 'price': 2.3, 'point': 2.5}]}]}, {'key': 'grosvenor', 'title': 'Grosvenor', 'last_update': '2024-01-21T11:36:53Z', 'markets': [{'key': 'totals', 'last_update': '2024-01-21T11:36:53Z', 'outcomes': [{'name': 'Over', 'price': 2.4, 'point': 3.5}, {'name': 'Under', 'price': 1.57, 'point': 3.5}]}]}, {'key': 'casumo', 'title': 'Casumo', 'last_update': '2024-01-21T11:38:02Z', 'markets': [{'key': 'totals', 'last_update': '2024-01-21T11:38:02Z', 'outcomes': [{'name': 'Over', 'price': 2.4, 'point': 3.5}, {'name': 'Under', 'price': 1.57, 'point': 3.5}]}]}, {'key': 'mrgreen', 'title': 'Mr Green', 'last_update': '2024-01-21T11:38:02Z', 'markets': [{'key': 'totals', 'last_update': '2024-01-21T11:38:02Z', 'outcomes': [{'name': 'Over', 'price': 2.33, 'point': 3.5}, {'name': 'Under', 'price': 1.56, 'point': 3.5}]}]}, {'key': 'unibet_uk', 'title': 'Unibet', 'last_update': '2024-01-21T11:38:02Z', 'markets': [{'key': 'totals', 'last_update': '2024-01-21T11:38:02Z', 'outcomes': [{'name': 'Over', 'price': 2.4, 'point': 3.5}, {'name': 'Under', 'price': 1.57, 'point': 3.5}]}]}, {'key': 'coral', 'title': 'Coral', 'last_update': '2024-01-21T11:38:02Z', 'markets': [{'key': 'totals', 'last_update': '2024-01-21T11:38:02Z', 'outcomes': [{'name': 'Over', 'price': 1.57, 'point': 2.5}, {'name': 'Under', 'price': 2.2, 'point': 2.5}]}]}, {'key': 'matchbook', 'title': 'Matchbook', 'last_update': '2024-01-21T11:37:36Z', 'markets': [{'key': 'totals', 'last_update': '2024-01-21T11:37:36Z', 'outcomes': [{'name': 'Over', 'price': 1.67, 'point': 2.5}, {'name': 'Under', 'price': 2.44, 'point': 2.5}]}]}]}\n",
      "\n",
      "{'id': '711e48eb6492e838266801e94ee35c65', 'sport_key': 'soccer_germany_bundesliga2', 'sport_title': 'Bundesliga 2 - Germany', 'commence_time': '2024-01-21T12:30:00Z', 'home_team': 'SC Paderborn', 'away_team': 'Greuther Fürth', 'bookmakers': [{'key': 'betfair_sb_uk', 'title': 'Betfair Sportsbook', 'last_update': '2024-01-21T11:36:53Z', 'markets': [{'key': 'totals', 'last_update': '2024-01-21T11:36:53Z', 'outcomes': [{'name': 'Over', 'price': 1.54, 'point': 2.5}, {'name': 'Under', 'price': 2.2, 'point': 2.5}]}]}, {'key': 'williamhill', 'title': 'William Hill', 'last_update': '2024-01-21T11:30:12Z', 'markets': [{'key': 'totals', 'last_update': '2024-01-21T11:30:12Z', 'outcomes': [{'name': 'Over', 'price': 1.57, 'point': 2.5}, {'name': 'Under', 'price': 2.3, 'point': 2.5}]}]}, {'key': 'mrgreen', 'title': 'Mr Green', 'last_update': '2024-01-21T11:38:02Z', 'markets': [{'key': 'totals', 'last_update': '2024-01-21T11:38:02Z', 'outcomes': [{'name': 'Over', 'price': 1.57, 'point': 2.5}, {'name': 'Under', 'price': 2.25, 'point': 2.5}]}]}, {'key': 'grosvenor', 'title': 'Grosvenor', 'last_update': '2024-01-21T11:36:53Z', 'markets': [{'key': 'totals', 'last_update': '2024-01-21T11:36:53Z', 'outcomes': [{'name': 'Over', 'price': 1.61, 'point': 2.5}, {'name': 'Under', 'price': 2.33, 'point': 2.5}]}]}, {'key': 'casumo', 'title': 'Casumo', 'last_update': '2024-01-21T11:38:02Z', 'markets': [{'key': 'totals', 'last_update': '2024-01-21T11:38:02Z', 'outcomes': [{'name': 'Over', 'price': 1.61, 'point': 2.5}, {'name': 'Under', 'price': 2.33, 'point': 2.5}]}]}, {'key': 'unibet_uk', 'title': 'Unibet', 'last_update': '2024-01-21T11:38:02Z', 'markets': [{'key': 'totals', 'last_update': '2024-01-21T11:38:02Z', 'outcomes': [{'name': 'Over', 'price': 1.61, 'point': 2.5}, {'name': 'Under', 'price': 2.33, 'point': 2.5}]}]}, {'key': 'coral', 'title': 'Coral', 'last_update': '2024-01-21T11:38:02Z', 'markets': [{'key': 'totals', 'last_update': '2024-01-21T11:38:02Z', 'outcomes': [{'name': 'Over', 'price': 1.57, 'point': 2.5}, {'name': 'Under', 'price': 2.2, 'point': 2.5}]}]}, {'key': 'matchbook', 'title': 'Matchbook', 'last_update': '2024-01-21T11:37:36Z', 'markets': [{'key': 'totals', 'last_update': '2024-01-21T11:37:36Z', 'outcomes': [{'name': 'Over', 'price': 1.66, 'point': 2.5}, {'name': 'Under', 'price': 2.46, 'point': 2.5}]}]}]}\n",
      "\n",
      "{'id': '043e4c7743d563d60c6df7d41b779e04', 'sport_key': 'soccer_turkey_super_league', 'sport_title': 'Turkey Super League', 'commence_time': '2024-01-21T13:00:00Z', 'home_team': 'Torku Konyaspor', 'away_team': 'Antalyaspor', 'bookmakers': [{'key': 'casumo', 'title': 'Casumo', 'last_update': '2024-01-21T11:37:31Z', 'markets': [{'key': 'totals', 'last_update': '2024-01-21T11:37:31Z', 'outcomes': [{'name': 'Over', 'price': 2.38, 'point': 2.5}, {'name': 'Under', 'price': 1.57, 'point': 2.5}]}]}, {'key': 'mrgreen', 'title': 'Mr Green', 'last_update': '2024-01-21T11:37:31Z', 'markets': [{'key': 'totals', 'last_update': '2024-01-21T11:37:31Z', 'outcomes': [{'name': 'Over', 'price': 2.3, 'point': 2.5}, {'name': 'Under', 'price': 1.56, 'point': 2.5}]}]}, {'key': 'unibet_uk', 'title': 'Unibet', 'last_update': '2024-01-21T11:37:32Z', 'markets': [{'key': 'totals', 'last_update': '2024-01-21T11:37:32Z', 'outcomes': [{'name': 'Over', 'price': 2.38, 'point': 2.5}, {'name': 'Under', 'price': 1.57, 'point': 2.5}]}]}, {'key': 'grosvenor', 'title': 'Grosvenor', 'last_update': '2024-01-21T11:37:32Z', 'markets': [{'key': 'totals', 'last_update': '2024-01-21T11:37:32Z', 'outcomes': [{'name': 'Over', 'price': 2.38, 'point': 2.5}, {'name': 'Under', 'price': 1.57, 'point': 2.5}]}]}, {'key': 'coral', 'title': 'Coral', 'last_update': '2024-01-21T11:37:32Z', 'markets': [{'key': 'totals', 'last_update': '2024-01-21T11:37:32Z', 'outcomes': [{'name': 'Over', 'price': 2.25, 'point': 2.5}, {'name': 'Under', 'price': 1.53, 'point': 2.5}]}]}, {'key': 'matchbook', 'title': 'Matchbook', 'last_update': '2024-01-21T11:37:31Z', 'markets': [{'key': 'totals', 'last_update': '2024-01-21T11:37:31Z', 'outcomes': [{'name': 'Over', 'price': 2.5, 'point': 2.5}, {'name': 'Under', 'price': 1.65, 'point': 2.5}]}]}]}\n",
      "\n",
      "{'id': 'f5c150694939a47afa4a4f26dd87a11e', 'sport_key': 'soccer_spain_la_liga', 'sport_title': 'La Liga - Spain', 'commence_time': '2024-01-21T13:00:00Z', 'home_team': 'CA Osasuna', 'away_team': 'Getafe', 'bookmakers': [{'key': 'betfair_sb_uk', 'title': 'Betfair Sportsbook', 'last_update': '2024-01-21T11:37:33Z', 'markets': [{'key': 'totals', 'last_update': '2024-01-21T11:37:33Z', 'outcomes': [{'name': 'Over', 'price': 2.88, 'point': 2.5}, {'name': 'Under', 'price': 1.36, 'point': 2.5}]}]}, {'key': 'williamhill', 'title': 'William Hill', 'last_update': '2024-01-21T11:34:45Z', 'markets': [{'key': 'totals', 'last_update': '2024-01-21T11:34:45Z', 'outcomes': [{'name': 'Over', 'price': 2.62, 'point': 2.5}, {'name': 'Under', 'price': 1.44, 'point': 2.5}]}]}, {'key': 'coral', 'title': 'Coral', 'last_update': '2024-01-21T11:37:22Z', 'markets': [{'key': 'totals', 'last_update': '2024-01-21T11:37:22Z', 'outcomes': [{'name': 'Over', 'price': 2.65, 'point': 2.5}, {'name': 'Under', 'price': 1.44, 'point': 2.5}]}]}, {'key': 'casumo', 'title': 'Casumo', 'last_update': '2024-01-21T11:37:12Z', 'markets': [{'key': 'totals', 'last_update': '2024-01-21T11:37:12Z', 'outcomes': [{'name': 'Over', 'price': 1.56, 'point': 1.5}, {'name': 'Under', 'price': 2.4, 'point': 1.5}]}]}, {'key': 'unibet_uk', 'title': 'Unibet', 'last_update': '2024-01-21T11:37:02Z', 'markets': [{'key': 'totals', 'last_update': '2024-01-21T11:37:02Z', 'outcomes': [{'name': 'Over', 'price': 1.56, 'point': 1.5}, {'name': 'Under', 'price': 2.4, 'point': 1.5}]}]}, {'key': 'mrgreen', 'title': 'Mr Green', 'last_update': '2024-01-21T11:37:02Z', 'markets': [{'key': 'totals', 'last_update': '2024-01-21T11:37:02Z', 'outcomes': [{'name': 'Over', 'price': 1.53, 'point': 1.5}, {'name': 'Under', 'price': 2.35, 'point': 1.5}]}]}, {'key': 'grosvenor', 'title': 'Grosvenor', 'last_update': '2024-01-21T11:37:22Z', 'markets': [{'key': 'totals', 'last_update': '2024-01-21T11:37:22Z', 'outcomes': [{'name': 'Over', 'price': 1.55, 'point': 1.5}, {'name': 'Under', 'price': 2.38, 'point': 1.5}]}]}]}\n"
     ]
    }
   ],
   "source": [
    "events = []\n",
    "for data in odds_response:\n",
    "    events.append(Event(data))\n",
    "    print(data)\n",
    "    print()\n",
    "\n",
    "arbitrage_events = []\n",
    "for event in events:\n",
    "    best_odds = event.find_best_odds()\n",
    "    if event.arbitrage():\n",
    "        arbitrage_events.append(event)\n",
    "\n",
    "for event in arbitrage_events:\n",
    "    event.calculate_arbitrage_bets()\n",
    "    event.convert_decimal_to_american()"
   ]
  },
  {
   "cell_type": "markdown",
   "id": "4cf86515",
   "metadata": {
    "id": "4cf86515"
   },
   "source": [
    "### Creating Dataframe and Writing to Excel File"
   ]
  },
  {
   "cell_type": "code",
   "execution_count": 7,
   "id": "bdc8da60",
   "metadata": {
    "id": "bdc8da60",
    "executionInfo": {
     "status": "aborted",
     "timestamp": 1705767394554,
     "user_tz": -120,
     "elapsed": 3,
     "user": {
      "displayName": "Камен Караиванов",
      "userId": "03445079520674203608"
     }
    },
    "ExecuteTime": {
     "end_time": "2024-01-21T11:38:02.921442727Z",
     "start_time": "2024-01-21T11:38:02.877566744Z"
    }
   },
   "outputs": [],
   "source": [
    "MAX_OUTCOMES = max([event.num_outcomes for event in arbitrage_events])\n",
    "ARBITRAGE_EVENTS_COUNT = len(arbitrage_events)\n",
    "\n",
    "my_columns = ['ID', 'Sport Key', 'Expected Earnings'] + list(np.array([[f'Bookmaker #{outcome}', f'Name #{outcome}', f'Odds #{outcome}', f'Amount to Buy #{outcome}'] for outcome in range(1, MAX_OUTCOMES + 1)]).flatten())\n",
    "dataframe = pd.DataFrame(columns=my_columns)"
   ]
  },
  {
   "cell_type": "code",
   "execution_count": 8,
   "id": "1976164f",
   "metadata": {
    "id": "1976164f",
    "executionInfo": {
     "status": "aborted",
     "timestamp": 1705767394554,
     "user_tz": -120,
     "elapsed": 3,
     "user": {
      "displayName": "Камен Караиванов",
      "userId": "03445079520674203608"
     }
    },
    "ExecuteTime": {
     "end_time": "2024-01-21T11:38:02.961762991Z",
     "start_time": "2024-01-21T11:38:02.898347659Z"
    }
   },
   "outputs": [],
   "source": [
    "for event in arbitrage_events:\n",
    "    # print(event.best_odds)\n",
    "    row = []\n",
    "    row.append(event.id)\n",
    "    row.append(event.sport_key)\n",
    "    row.append(round(event.expected_earnings, 2))\n",
    "    for index, outcome in enumerate(event.best_odds):\n",
    "        row.append(outcome[BOOKMAKER_INDEX])\n",
    "        row.append(outcome[NAME_INDEX])\n",
    "        row.append(outcome[ODDS_INDEX])\n",
    "        row.append(event.bet_amounts[index])\n",
    "    while len(row) < len(dataframe.columns):\n",
    "        row.append('N/A')\n",
    "    dataframe.loc[len(dataframe.index)] = row"
   ]
  },
  {
   "cell_type": "code",
   "execution_count": 9,
   "id": "9aacaf0d",
   "metadata": {
    "id": "9aacaf0d",
    "executionInfo": {
     "status": "aborted",
     "timestamp": 1705767394555,
     "user_tz": -120,
     "elapsed": 4,
     "user": {
      "displayName": "Камен Караиванов",
      "userId": "03445079520674203608"
     }
    },
    "ExecuteTime": {
     "end_time": "2024-01-21T11:38:02.962904487Z",
     "start_time": "2024-01-21T11:38:02.904323659Z"
    }
   },
   "outputs": [],
   "source": [
    "writer = pd.ExcelWriter('bets.xlsx')\n",
    "dataframe.to_excel(writer, index=False)\n",
    "writer.close()"
   ]
  },
  {
   "cell_type": "markdown",
   "id": "84aa0611",
   "metadata": {
    "id": "84aa0611"
   },
   "source": [
    "### Formatting the Excel File"
   ]
  },
  {
   "cell_type": "code",
   "execution_count": 10,
   "id": "917c28ca",
   "metadata": {
    "id": "917c28ca",
    "executionInfo": {
     "status": "aborted",
     "timestamp": 1705767394555,
     "user_tz": -120,
     "elapsed": 4,
     "user": {
      "displayName": "Камен Караиванов",
      "userId": "03445079520674203608"
     }
    },
    "ExecuteTime": {
     "end_time": "2024-01-21T11:38:02.979326010Z",
     "start_time": "2024-01-21T11:38:02.928881284Z"
    }
   },
   "outputs": [],
   "source": [
    "BLACK = '000000'\n",
    "LIGHT_GREY = 'D6D6D6'\n",
    "DARK_GREY = '9F9F9F'\n",
    "RED = 'FEA0A0'\n",
    "BLUE = 'A0CEFE'\n",
    "YELLOW = 'FFE540'\n",
    "\n",
    "COLORS = [RED, BLUE]\n",
    "\n",
    "ID_COLUMN_FILL = PatternFill(fill_type='solid', start_color=DARK_GREY, end_color=DARK_GREY)\n",
    "SPORT_KEY_COLUMN_FILL = PatternFill(fill_type='solid', start_color=LIGHT_GREY, end_color=LIGHT_GREY)\n",
    "EXPECTED_EARNINGS_COLUMN_FILL = PatternFill(fill_type='solid', start_color=YELLOW, end_color=YELLOW)\n",
    "\n",
    "CENTER_ALIGNMENT = Alignment(horizontal='center', vertical='bottom', indent=0)\n",
    "\n",
    "TOP_ROW_BORDER = Border(bottom=Side(border_style='thick', color=BLACK))\n",
    "NORMAL_ROW_BORDER = Border(top=Side(border_style='thin', color=LIGHT_GREY), bottom=Side(border_style='thin', color=DARK_GREY))\n",
    "\n",
    "wb = load_workbook('bets.xlsx')\n",
    "ws = wb.active\n",
    "ws.title = 'Upcoming'\n",
    "# changing width\n",
    "for col in range(1, 26):\n",
    "    ws.column_dimensions[chr(col + 64)].width = 20\n",
    "\n",
    "for cell in ws['A']:\n",
    "    cell.fill = ID_COLUMN_FILL\n",
    "    cell.alignment = CENTER_ALIGNMENT\n",
    "\n",
    "for cell in ws['B']:\n",
    "    cell.fill = SPORT_KEY_COLUMN_FILL\n",
    "    cell.alignment = CENTER_ALIGNMENT\n",
    "\n",
    "for cell in ws['C']:\n",
    "    cell.fill = EXPECTED_EARNINGS_COLUMN_FILL\n",
    "    cell.alignment = CENTER_ALIGNMENT\n",
    "    cell.number_format = numbers.BUILTIN_FORMATS[7]\n",
    "\n",
    "START_INDEX = 'D'\n",
    "for index in range(MAX_OUTCOMES):\n",
    "    for col in ws[START_INDEX : chr(ord(START_INDEX) + 3)]:\n",
    "        for cell in col:\n",
    "            color = COLORS[int(index % 2)]\n",
    "            cell.fill = PatternFill(fill_type='solid', start_color=color, end_color=color)\n",
    "            cell.alignment = CENTER_ALIGNMENT\n",
    "            if cell.column % 4 == 3:\n",
    "                cell.number_format = numbers.BUILTIN_FORMATS[7]\n",
    "\n",
    "    START_INDEX = chr(ord(START_INDEX) + 4)\n",
    "\n",
    "for cell in ws['1']:\n",
    "    cell.border = TOP_ROW_BORDER\n",
    "\n",
    "for row in range(2, ARBITRAGE_EVENTS_COUNT + 2):\n",
    "    for cell in ws[str(row)]:\n",
    "        cell.border = NORMAL_ROW_BORDER\n",
    "\n",
    "wb.save('upcoming_events_bets.xlsx')"
   ]
  },
  {
   "cell_type": "code",
   "execution_count": 10,
   "id": "06858b4a",
   "metadata": {
    "id": "06858b4a",
    "executionInfo": {
     "status": "aborted",
     "timestamp": 1705767394555,
     "user_tz": -120,
     "elapsed": 4,
     "user": {
      "displayName": "Камен Караиванов",
      "userId": "03445079520674203608"
     }
    },
    "ExecuteTime": {
     "end_time": "2024-01-21T11:38:02.980197315Z",
     "start_time": "2024-01-21T11:38:02.953545440Z"
    }
   },
   "outputs": [],
   "source": []
  }
 ],
 "metadata": {
  "kernelspec": {
   "display_name": "Python 3 (ipykernel)",
   "language": "python",
   "name": "python3"
  },
  "language_info": {
   "codemirror_mode": {
    "name": "ipython",
    "version": 3
   },
   "file_extension": ".py",
   "mimetype": "text/x-python",
   "name": "python",
   "nbconvert_exporter": "python",
   "pygments_lexer": "ipython3",
   "version": "3.9.7"
  },
  "colab": {
   "provenance": [
    {
     "file_id": "1asMXW_1wcL0G0mcgttF955qrDah9HubF",
     "timestamp": 1705752388548
    }
   ]
  }
 },
 "nbformat": 4,
 "nbformat_minor": 5
}
